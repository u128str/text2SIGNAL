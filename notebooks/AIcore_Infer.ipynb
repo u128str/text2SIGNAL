{
 "cells": [
  {
   "cell_type": "markdown",
   "metadata": {},
   "source": [
    "# Inference from a model deployed on AIcore\n",
    "\n",
    "https://pypi.org/project/ai-core-sdk/  # pip install ai-core-sdk\n",
    "\n",
    "pip install ai-api-client-sdk\n",
    "\n",
    "https://pypi.org/project/generative-ai-hub-sdk/  "
   ]
  },
  {
   "cell_type": "code",
   "execution_count": 12,
   "metadata": {},
   "outputs": [],
   "source": [
    "# ! pip install ai-core-sdk\n",
    "# ! pip install ai-api-client-sdk\n",
    "# ! pip install generative-ai-hub-sdk"
   ]
  },
  {
   "cell_type": "code",
   "execution_count": 13,
   "metadata": {},
   "outputs": [
    {
     "name": "stdout",
     "output_type": "stream",
     "text": [
      "\n",
      "  <s>[INST]\n",
      "  You are SIGNAL assistant, a part of SAP Signavio's Process Intelligence Suite. \n",
      "  SIGNAL stands for Signavio Analytics Language. \n",
      "  SIGNAL is a dialect of SQL.\n",
      "  Your goal is to help users craft SIGNAL \n",
      "  queries and understand the SIGNAL language better. \n",
      "  \n",
      "  \n",
      "  ### Instruction:\n",
      "  \n",
      "  Task to solve:\n",
      "  \n",
      "  Construct SIGNAL expression querying given textual description in Input.\n",
      "  Expected output results are in JSON format.\n",
      "  \n",
      "  \n",
      "  ### Input:\n",
      "  Calculate the sum of the 'Inv. Converted USD Amount' column in the 'defaultview-225' table, filtered by the conditions: 'Last Inv. Item Cash Discount Days 1' is less than 'Last Inv. Item Vendor Master CD 1', or 'Last Inv. Item Cash Discount Days 2' is less than 'Last Inv. Item Vendor Master CD 2', or 'Last Inv. Item Net Payment Terms Period' is less than 'Last Inv. Item Vendor Master NDD'.\n",
      "  \n",
      "  ### Output:\n",
      "  [/INST]\n",
      "\n"
     ]
    }
   ],
   "source": [
    "def signavio_prompt(description_llm):\n",
    "    \"\"\"\n",
    "    \"\"\"\n",
    "    #import yaml\n",
    "\n",
    "    mistral=\"\"\"\n",
    "  <s>[INST]\n",
    "  You are SIGNAL assistant, a part of SAP Signavio's Process Intelligence Suite. \n",
    "  SIGNAL stands for Signavio Analytics Language. \n",
    "  SIGNAL is a dialect of SQL.\n",
    "  Your goal is to help users craft SIGNAL \n",
    "  queries and understand the SIGNAL language better. \n",
    "  \n",
    "  \n",
    "  ### Instruction:\n",
    "  \n",
    "  Task to solve:\n",
    "  \n",
    "  Construct SIGNAL expression querying given textual description in Input.\n",
    "  Expected output results are in JSON format.\n",
    "  \n",
    "  \n",
    "  ### Input:\n",
    "  {description_llm}\n",
    "  \n",
    "  ### Output:\n",
    "  [/INST]\n",
    "\"\"\"\n",
    "    #mistral_json=yaml.load(mistral,  Loader=yaml.FullLoader)\n",
    "    #return mistral_json[\"query_template\"].format(description_llm=str(description_llm))\n",
    "    return mistral.format(description_llm=description_llm) \n",
    "\n",
    "description_llm=\"Calculate the sum of the 'Inv. Converted USD Amount' column in the 'defaultview-225' table, filtered by the conditions: 'Last Inv. Item Cash Discount Days 1' is less than 'Last Inv. Item Vendor Master CD 1', or 'Last Inv. Item Cash Discount Days 2' is less than 'Last Inv. Item Vendor Master CD 2', or 'Last Inv. Item Net Payment Terms Period' is less than 'Last Inv. Item Vendor Master NDD'.\"\n",
    "\n",
    "print(signavio_prompt(description_llm))"
   ]
  },
  {
   "cell_type": "code",
   "execution_count": 4,
   "metadata": {},
   "outputs": [
    {
     "name": "stdout",
     "output_type": "stream",
     "text": [
      "Completion(id='cmpl-240b5f4fc4a44b87aff01a77b7a97368', choices=[CompletionChoice(finish_reason='length', index=0, logprobs=None, text=' A cycle time in lean manufacturing is the amount of time a project job requires,')], created=64164, model='chatbd', object='text_completion', system_fingerprint=None, usage=CompletionUsage(completion_tokens=16, prompt_tokens=8, total_tokens=24))\n"
     ]
    }
   ],
   "source": [
    "from gen_ai_hub.proxy import GenAIHubProxyClient\n",
    "from gen_ai_hub.proxy.native.openai import OpenAI\n",
    " \n",
    "GenAIHubProxyClient.add_foundation_model_scenario(\n",
    "    scenario_id='signavio-llm',\n",
    "    config_names='text2signal-*',\n",
    "    prediction_url_suffix='/v1/completions'\n",
    ")\n",
    " \n",
    "openai = OpenAI()\n",
    "print(openai.completions.create(model_name='chatbd', prompt=\"what is the average cycle time?\"))"
   ]
  },
  {
   "cell_type": "code",
   "execution_count": 23,
   "metadata": {},
   "outputs": [],
   "source": [
    "description_llm=\"Calculate the sum of the 'Inv. Converted USD Amount' column in the 'defaultview-225' table, filtered by the conditions: 'Last Inv. Item Cash Discount Days 1' is less than 'Last Inv. Item Vendor Master CD 1', or 'Last Inv. Item Cash Discount Days 2' is less than 'Last Inv. Item Vendor Master CD 2', or 'Last Inv. Item Net Payment Terms Period' is less than 'Last Inv. Item Vendor Master NDD'.\"\n",
    "\n",
    "prompt=signavio_prompt(description_llm)\n",
    "completion = openai.completions.create(model_name='chatbd', \n",
    "                                prompt=prompt, \n",
    "                                max_tokens=1500,\n",
    "                                temperature=0\n",
    ")"
   ]
  },
  {
   "cell_type": "code",
   "execution_count": 26,
   "metadata": {},
   "outputs": [
    {
     "name": "stdout",
     "output_type": "stream",
     "text": [
      "unterminated string literal (detected at line 6) (<string>, line 6) \n",
      ">>>>>>>>>>>>>>>Problem to process { \"query\":\"\"\"SELECT \n",
      "SUM(\"Inv. Converted USD Amount\") \n",
      "FILTER (WHERE (\"Last Inv. Item Cash Discount Days 1\") < \"Last Inv. Item Vendor Master CD 1\" \n",
      "OR (\"Last Inv. Item Cash Discount Days 2\" < \"Last Inv. Item Vendor Master CD 2\"\n",
      "OR \"Last Inv. Item Net Payment Terms Period\" < \"Last Inv. Item Vendor Master NDD\"))\n",
      "FROM \"defaultview-225\"\"\"\"}</s>\n",
      "\n",
      "stop { \"query\":\"\"\"SELECT \n",
      "SUM(\"Inv. Converted USD Amount\") \n",
      "FILTER (WHERE (\"Last Inv. Item Cash Discount Days 1\") < \"Last Inv. Item Vendor Master CD 1\" \n",
      "OR (\"Last Inv. Item Cash Discount Days 2\" < \"Last Inv. Item Vendor Master CD 2\"\n",
      "OR \"Last Inv. Item Net Payment Terms Period\" < \"Last Inv. Item Vendor Master NDD\"))\n",
      "FROM \"defaultview-225\"\"\"\"}</s>\n",
      "\n"
     ]
    }
   ],
   "source": [
    "import json\n",
    "#query_llm = json.loads(res.model_dump_json(indent=2))[\"choices\"][0][\"text\"]\n",
    "\n",
    "res =json.loads(completion.model_dump_json(indent=2))[\"usage\"]\n",
    "res_q = json.loads(completion.model_dump_json(indent=2))\n",
    "finish_reason = res_q['choices'][0]['finish_reason']\n",
    "query_q=res_q['choices'][0]['text'] #+' \"\"\"}'\n",
    "\n",
    "try:\n",
    "        #processed = '\"\"\"'.join(query_q.split('\"\"\"', 2)[:2]) + '\"\"\"}'\n",
    "        #q_out=eval(processed.encode())[\"query\"]\n",
    "        q_out=eval(query_q)[\"query\"]\n",
    "except Exception as e:\n",
    "        print(e,\"\\n>>>>>>>>>>>>>>>Problem to process\", query_q)\n",
    "        q_out=f\"Error {e}\"\n",
    "\n",
    "print(finish_reason,query_q)"
   ]
  },
  {
   "cell_type": "code",
   "execution_count": null,
   "metadata": {},
   "outputs": [],
   "source": []
  },
  {
   "cell_type": "code",
   "execution_count": 6,
   "metadata": {},
   "outputs": [
    {
     "data": {
      "text/plain": [
       "True"
      ]
     },
     "execution_count": 6,
     "metadata": {},
     "output_type": "execute_result"
    }
   ],
   "source": [
    "# Read credentials from .env\n",
    "from dotenv import load_dotenv\n",
    "from pathlib import Path  # Python 3.6+ only\n",
    "import sys\n",
    "import os\n",
    "sys.path.append(\"./\")\n",
    "env_path = Path('..') / '.env_aicore'\n",
    "load_dotenv(dotenv_path=env_path)"
   ]
  },
  {
   "cell_type": "code",
   "execution_count": 11,
   "metadata": {},
   "outputs": [
    {
     "data": {
      "text/plain": [
       "'default'"
      ]
     },
     "execution_count": 11,
     "metadata": {},
     "output_type": "execute_result"
    }
   ],
   "source": [
    "os.getenv(\"CLIENT_SECRET\")\n",
    "os.getenv(\"resource_group_id\")"
   ]
  },
  {
   "cell_type": "code",
   "execution_count": 8,
   "metadata": {},
   "outputs": [
    {
     "ename": "AIAPIServerException",
     "evalue": "Failed to get /scenarios:  \n Status Code: 404, Request ID:None",
     "output_type": "error",
     "traceback": [
      "\u001b[0;31m---------------------------------------------------------------------------\u001b[0m",
      "\u001b[0;31mAIAPIServerException\u001b[0m                      Traceback (most recent call last)",
      "Cell \u001b[0;32mIn[8], line 12\u001b[0m\n\u001b[1;32m      5\u001b[0m ai_core_client \u001b[38;5;241m=\u001b[39m AIAPIV2Client(base_url\u001b[38;5;241m=\u001b[39mos\u001b[38;5;241m.\u001b[39mgetenv(\u001b[38;5;124m\"\u001b[39m\u001b[38;5;124mAI_API_BASE\u001b[39m\u001b[38;5;124m\"\u001b[39m),\n\u001b[1;32m      6\u001b[0m                         auth_url\u001b[38;5;241m=\u001b[39mos\u001b[38;5;241m.\u001b[39mgetenv(\u001b[38;5;124m\"\u001b[39m\u001b[38;5;124mAUTH_URL\u001b[39m\u001b[38;5;124m\"\u001b[39m),\n\u001b[1;32m      7\u001b[0m                         client_id\u001b[38;5;241m=\u001b[39mos\u001b[38;5;241m.\u001b[39mgetenv(\u001b[38;5;124m\"\u001b[39m\u001b[38;5;124mCLIENT_ID\u001b[39m\u001b[38;5;124m\"\u001b[39m),\n\u001b[1;32m      8\u001b[0m                         client_secret\u001b[38;5;241m=\u001b[39mos\u001b[38;5;241m.\u001b[39mgetenv(\u001b[38;5;124m\"\u001b[39m\u001b[38;5;124mCLIENT_SECRET\u001b[39m\u001b[38;5;124m\"\u001b[39m),\n\u001b[1;32m      9\u001b[0m                         resource_group\u001b[38;5;241m=\u001b[39mos\u001b[38;5;241m.\u001b[39mgetenv(\u001b[38;5;124m\"\u001b[39m\u001b[38;5;124mresource_group_id\u001b[39m\u001b[38;5;124m\"\u001b[39m))\n\u001b[1;32m     11\u001b[0m \u001b[38;5;66;03m# Make some queries, e.g.\u001b[39;00m\n\u001b[0;32m---> 12\u001b[0m scenarios \u001b[38;5;241m=\u001b[39m \u001b[43mai_core_client\u001b[49m\u001b[38;5;241;43m.\u001b[39;49m\u001b[43mscenario\u001b[49m\u001b[38;5;241;43m.\u001b[39;49m\u001b[43mquery\u001b[49m\u001b[43m(\u001b[49m\u001b[43m)\u001b[49m\n",
      "File \u001b[0;32m~/PycharmProjects/text2SIGNAL/.venv/lib/python3.11/site-packages/ai_api_client_sdk/resource_clients/scenario_client.py:55\u001b[0m, in \u001b[0;36mScenarioClient.query\u001b[0;34m(self, only_llm_scenarios, resource_group)\u001b[0m\n\u001b[1;32m     39\u001b[0m \u001b[38;5;28;01mdef\u001b[39;00m \u001b[38;5;21mquery\u001b[39m(\u001b[38;5;28mself\u001b[39m, only_llm_scenarios: \u001b[38;5;28mbool\u001b[39m \u001b[38;5;241m=\u001b[39m \u001b[38;5;28;01mFalse\u001b[39;00m, resource_group: \u001b[38;5;28mstr\u001b[39m \u001b[38;5;241m=\u001b[39m \u001b[38;5;28;01mNone\u001b[39;00m) \u001b[38;5;241m-\u001b[39m\u001b[38;5;241m>\u001b[39m ScenarioQueryResponse:\n\u001b[1;32m     40\u001b[0m \u001b[38;5;250m    \u001b[39m\u001b[38;5;124;03m\"\"\"Queries the scenarios.\u001b[39;00m\n\u001b[1;32m     41\u001b[0m \n\u001b[1;32m     42\u001b[0m \u001b[38;5;124;03m    :param only_llm_scenarios: indicates whether to query for LLM scenarios only, defaults to False\u001b[39;00m\n\u001b[0;32m   (...)\u001b[0m\n\u001b[1;32m     53\u001b[0m \u001b[38;5;124;03m    :rtype: class:`ai_api_client_sdk.models.scenario_query_response.ScenarioQueryResponse`\u001b[39;00m\n\u001b[1;32m     54\u001b[0m \u001b[38;5;124;03m    \"\"\"\u001b[39;00m\n\u001b[0;32m---> 55\u001b[0m     response_dict \u001b[38;5;241m=\u001b[39m \u001b[38;5;28;43mself\u001b[39;49m\u001b[38;5;241;43m.\u001b[39;49m\u001b[43mrest_client\u001b[49m\u001b[38;5;241;43m.\u001b[39;49m\u001b[43mget\u001b[49m\u001b[43m(\u001b[49m\u001b[43mpath\u001b[49m\u001b[38;5;241;43m=\u001b[39;49m\u001b[38;5;124;43m'\u001b[39;49m\u001b[38;5;124;43m/scenarios\u001b[39;49m\u001b[38;5;124;43m'\u001b[39;49m\u001b[43m,\u001b[49m\u001b[43m \u001b[49m\u001b[43mresource_group\u001b[49m\u001b[38;5;241;43m=\u001b[39;49m\u001b[43mresource_group\u001b[49m\u001b[43m)\u001b[49m\n\u001b[1;32m     56\u001b[0m     \u001b[38;5;28;01mif\u001b[39;00m only_llm_scenarios:\n\u001b[1;32m     57\u001b[0m         response_dict \u001b[38;5;241m=\u001b[39m filter_for_llm_scenarios(response_dict)\n",
      "File \u001b[0;32m~/PycharmProjects/text2SIGNAL/.venv/lib/python3.11/site-packages/ai_api_client_sdk/helpers/rest_client.py:168\u001b[0m, in \u001b[0;36mRestClient.get\u001b[0;34m(self, path, params, headers, resource_group)\u001b[0m\n\u001b[1;32m    142\u001b[0m \u001b[38;5;28;01mdef\u001b[39;00m \u001b[38;5;21mget\u001b[39m(\u001b[38;5;28mself\u001b[39m, path: \u001b[38;5;28mstr\u001b[39m, params: Dict[\u001b[38;5;28mstr\u001b[39m, \u001b[38;5;28mstr\u001b[39m] \u001b[38;5;241m=\u001b[39m \u001b[38;5;28;01mNone\u001b[39;00m, headers: Dict[\u001b[38;5;28mstr\u001b[39m, \u001b[38;5;28mstr\u001b[39m] \u001b[38;5;241m=\u001b[39m \u001b[38;5;28;01mNone\u001b[39;00m,\n\u001b[1;32m    143\u001b[0m         resource_group: \u001b[38;5;28mstr\u001b[39m \u001b[38;5;241m=\u001b[39m \u001b[38;5;28;01mNone\u001b[39;00m) \u001b[38;5;241m-\u001b[39m\u001b[38;5;241m>\u001b[39m Union[\u001b[38;5;28mdict\u001b[39m, \u001b[38;5;28mint\u001b[39m]:\n\u001b[1;32m    144\u001b[0m \u001b[38;5;250m    \u001b[39m\u001b[38;5;124;03m\"\"\"Sends a GET request to the server.\u001b[39;00m\n\u001b[1;32m    145\u001b[0m \n\u001b[1;32m    146\u001b[0m \u001b[38;5;124;03m    :param path: path of the endpoint the request should be sent to\u001b[39;00m\n\u001b[0;32m   (...)\u001b[0m\n\u001b[1;32m    166\u001b[0m \u001b[38;5;124;03m    :rtype: Union[dict, int]\u001b[39;00m\n\u001b[1;32m    167\u001b[0m \u001b[38;5;124;03m    \"\"\"\u001b[39;00m\n\u001b[0;32m--> 168\u001b[0m     \u001b[38;5;28;01mreturn\u001b[39;00m \u001b[38;5;28;43mself\u001b[39;49m\u001b[38;5;241;43m.\u001b[39;49m\u001b[43m_handle_request\u001b[49m\u001b[43m(\u001b[49m\u001b[38;5;124;43m'\u001b[39;49m\u001b[38;5;124;43mget\u001b[39;49m\u001b[38;5;124;43m'\u001b[39;49m\u001b[43m,\u001b[49m\u001b[43m \u001b[49m\u001b[43mpath\u001b[49m\u001b[38;5;241;43m=\u001b[39;49m\u001b[43mpath\u001b[49m\u001b[43m,\u001b[49m\u001b[43m \u001b[49m\u001b[43mparams\u001b[49m\u001b[38;5;241;43m=\u001b[39;49m\u001b[43mparams\u001b[49m\u001b[43m,\u001b[49m\u001b[43m \u001b[49m\u001b[43mheaders\u001b[49m\u001b[38;5;241;43m=\u001b[39;49m\u001b[43mheaders\u001b[49m\u001b[43m,\u001b[49m\u001b[43m \u001b[49m\u001b[43mresource_group\u001b[49m\u001b[38;5;241;43m=\u001b[39;49m\u001b[43mresource_group\u001b[49m\u001b[43m)\u001b[49m\n",
      "File \u001b[0;32m~/PycharmProjects/text2SIGNAL/.venv/lib/python3.11/site-packages/ai_api_client_sdk/helpers/rest_client.py:110\u001b[0m, in \u001b[0;36mRestClient._handle_request\u001b[0;34m(self, method, path, params, body_json, headers, resource_group)\u001b[0m\n\u001b[1;32m    106\u001b[0m         \u001b[38;5;28;01mraise\u001b[39;00m AIAPIServerException(status_code\u001b[38;5;241m=\u001b[39mstatus_code, description\u001b[38;5;241m=\u001b[39merror_description,\n\u001b[1;32m    107\u001b[0m                                    error_message\u001b[38;5;241m=\u001b[39merror_message, error_code\u001b[38;5;241m=\u001b[39merror_code, request_id\u001b[38;5;241m=\u001b[39mrequest_id,\n\u001b[1;32m    108\u001b[0m                                    details\u001b[38;5;241m=\u001b[39merror_details)\n\u001b[1;32m    109\u001b[0m \u001b[38;5;28;01melif\u001b[39;00m response\u001b[38;5;241m.\u001b[39mstatus_code \u001b[38;5;241m/\u001b[39m\u001b[38;5;241m/\u001b[39m \u001b[38;5;241m100\u001b[39m \u001b[38;5;241m!=\u001b[39m \u001b[38;5;241m2\u001b[39m:\n\u001b[0;32m--> 110\u001b[0m     \u001b[38;5;28;01mraise\u001b[39;00m AIAPIServerException(description\u001b[38;5;241m=\u001b[39merror_description, error_message\u001b[38;5;241m=\u001b[39mresponse\u001b[38;5;241m.\u001b[39mtext,\n\u001b[1;32m    111\u001b[0m                                status_code\u001b[38;5;241m=\u001b[39mresponse\u001b[38;5;241m.\u001b[39mstatus_code)\n\u001b[1;32m    112\u001b[0m \u001b[38;5;28;01mreturn\u001b[39;00m humps\u001b[38;5;241m.\u001b[39mdecamelize(response_json)\n",
      "\u001b[0;31mAIAPIServerException\u001b[0m: Failed to get /scenarios:  \n Status Code: 404, Request ID:None"
     ]
    }
   ],
   "source": [
    "# https://pypi.org/project/ai-api-client-sdk/\n",
    "from ai_api_client_sdk.ai_api_v2_client import AIAPIV2Client\n",
    "\n",
    "# Instantiate the client\n",
    "ai_core_client = AIAPIV2Client(base_url=os.getenv(\"AI_API_BASE\"),\n",
    "                        auth_url=os.getenv(\"AUTH_URL\"),\n",
    "                        client_id=os.getenv(\"CLIENT_ID\"),\n",
    "                        client_secret=os.getenv(\"CLIENT_SECRET\"),\n",
    "                        resource_group=os.getenv(\"resource_group_id\"))\n",
    "\n",
    "# Make some queries, e.g.\n",
    "scenarios = ai_core_client.scenario.query()"
   ]
  },
  {
   "cell_type": "code",
   "execution_count": null,
   "metadata": {},
   "outputs": [],
   "source": [
    "DEPLOYMENT_ID = \"d3560fac61da06c3\"\n",
    "response = ai_core_client.deployment.get(\n",
    "    deployment_id=DEPLOYMENT_ID,\n",
    "    resource_group=\"default\"\n",
    ")\n",
    "\n",
    "print(response.__dict__)"
   ]
  },
  {
   "cell_type": "code",
   "execution_count": null,
   "metadata": {},
   "outputs": [],
   "source": []
  },
  {
   "cell_type": "code",
   "execution_count": null,
   "metadata": {},
   "outputs": [],
   "source": [
    "import requests\n",
    "\n",
    "# URL\n",
    "deployment_url = \"https://api.ai.internalprod.eu-central-1.aws.ml.hana.ondemand.com/v2/inference/deployments/d3560fac61da06c3\"\n",
    "\n",
    "# Preparing the input for inference\n",
    "# {\"message\":\"Calculate the sum of the 'Inv. Converted USD Amount' column in the 'defaultview-225' table, filtered by the conditions: 'Last Inv. Item Cash Discount Days 1' is less than 'Last Inv. Item Vendor Master CD 1', or 'Last Inv. Item Cash Discount Days 2' is less than 'Last Inv. Item Vendor Master CD 2', or 'Last Inv. Item Net Payment Terms Period' is less than 'Last Inv. Item Vendor Master NDD'\",\n",
    "# \"model\":\"signal-llama\",\"analytics\":true,\n",
    "# \"parameters\":\"{\\\"max_tokens\\\":\\\"1500\\\",\\\"temperature\\\":\\\"0\\\"}\"}\n",
    "\n",
    "# curl http://localhost:8000/v1/completions \\\n",
    "#    -H \"Content-Type: application/json\" \\\n",
    "#    -d '{\n",
    "#        \"model\": \"our-awesome-model/v1\",\n",
    "#        \"prompt\": \"San Francisco is a\",\n",
    "#        \"max_tokens\": 7,\n",
    "#        \"temperature\": 0\n",
    "#    }'\n",
    "\n",
    "\n",
    "test_input = {\n",
    "    \"model\": \"chatbd\", # modelName\t\n",
    "    \"prompt\": signavio_prompt(description_llm),\n",
    "    #\"analytics\":true,\n",
    "    \"parameters\":\"{\\\"max_tokens\\\":\\\"1500\\\",\\\"temperature\\\":\\\"0\\\"}\"\n",
    "    \n",
    "}\n",
    "\n",
    "#endpoint = f\"{deployment_url}/v2/predict\" # endpoint implemented in serving engine\n",
    "endpoint = f\"{deployment_url}/v1/completions\"\n",
    "headers = {\"Authorization\": ai_core_client.rest_client.get_token(),\n",
    "           'ai-resource-group': \"default\",\n",
    "           \"Content-Type\": \"application/json\"}\n",
    "response = requests.post(endpoint, headers=headers, json=test_input)\n",
    "\n",
    "print('Inference result:', response.json())"
   ]
  },
  {
   "cell_type": "code",
   "execution_count": null,
   "metadata": {},
   "outputs": [],
   "source": [
    "from ai_core_sdk.ai_core_v2_client import AICoreV2Client\n",
    "\n",
    "ai_core_client = AICoreV2Client(base_url=os.getenv(\"AI_API_BASE\"),\n",
    "                        auth_url=os.getenv(\"AUTH_URL\"),\n",
    "                        client_id=os.getenv(\"CLIENT_ID\"),\n",
    "                        client_secret=os.getenv(\"CLIENT_SECRET\"),\n",
    "                        resource_group=os.getenv(\"resource_group_id\"))"
   ]
  },
  {
   "cell_type": "code",
   "execution_count": null,
   "metadata": {},
   "outputs": [],
   "source": [
    "response = ai_core_client.deployment.get(\n",
    "    deployment_id=\"YOUR_DEPLOYMENT_ID\",\n",
    "    resource_group=\"default\"\n",
    ")\n",
    "\n",
    "print(response.__dict__)"
   ]
  },
  {
   "cell_type": "markdown",
   "metadata": {},
   "source": [
    "# Create widget from Signavio API"
   ]
  },
  {
   "cell_type": "code",
   "execution_count": 29,
   "metadata": {},
   "outputs": [
    {
     "name": "stdout",
     "output_type": "stream",
     "text": [
      "alexey.streltsov@sap.com\n"
     ]
    }
   ],
   "source": [
    "from dotenv import load_dotenv\n",
    "from pathlib import Path  # Python 3.6+ only\n",
    "import sys\n",
    "import os\n",
    "sys.path.append(\"./\")\n",
    "env_path = Path('..') / '.env'\n",
    "load_dotenv(dotenv_path=env_path)\n",
    "\n",
    "! echo $MY_SIGNAVIO_NAME"
   ]
  },
  {
   "cell_type": "code",
   "execution_count": 32,
   "metadata": {},
   "outputs": [],
   "source": [
    "# Class coped and modified  from https://github.com/signavio/bpmn2constraints/blob/main/tutorial/SignavioAuthenticator.py\n",
    "class SignavioAuthenticatorCoE:\n",
    "    def __init__(self, system_instance, tenant_id, email, pw):\n",
    "        self.system_instance = system_instance\n",
    "        self.tenant_id = tenant_id\n",
    "        self.email = email\n",
    "        self.pw = pw\n",
    "\n",
    "    \"\"\"\n",
    "    Takes care of authentication against Signavio systems\n",
    "    \"\"\"\n",
    "\n",
    "    def authenticate(self):\n",
    "        \"\"\"\n",
    "        Authenticates user at Signavio system instance and initiates session.\n",
    "        Returns:\n",
    "            dictionary: Session information\n",
    "        \"\"\"\n",
    "        login_url = self.system_instance + \"/p/login\"\n",
    "        data = {\"name\": self.email, \"password\": self.pw, \"tokenonly\": \"true\"}\n",
    "        #if \"tenant_id\" in locals():\n",
    "        #    data[\"tenant\"] = self.tenant_id\n",
    "        data[\"tenant\"] = self.tenant_id\n",
    "        # authenticate\n",
    "        login_request = requests.post(login_url, data)\n",
    "\n",
    "        # retrieve token and session ID\n",
    "        auth_token = login_request.content.decode(\"utf-8\")\n",
    "        jsesssion_ID = login_request.cookies[\"JSESSIONID\"]\n",
    "\n",
    "        # The cookie is named 'LBROUTEID' for base_url 'editor.signavio.com'\n",
    "        # and 'editor.signavio.com', and 'AWSELB' for base_url\n",
    "        # 'app-au.signavio.com' and 'app-us.signavio.com'\n",
    "        lb_route_ID = login_request.cookies[\"LBROUTEID\"]\n",
    "\n",
    "        # return credentials\n",
    "        return {\n",
    "            \"jsesssion_ID\": jsesssion_ID,\n",
    "            \"lb_route_ID\": lb_route_ID,\n",
    "            \"auth_token\": auth_token,\n",
    "        }\n",
    "\n",
    "def credentials_actualization(system_instance, workspace_id, user_name, pw, auth={}):\n",
    "    # get credentials for current session. They are valid for 24 hours \n",
    "    authenticator = SignavioAuthenticatorCoE(system_instance, workspace_id, user_name, pw)\n",
    "    auth_data = authenticator.authenticate()\n",
    "    cookies = {'JSESSIONID': auth_data['jsesssion_ID'], 'LBROUTEID': auth_data['lb_route_ID']}\n",
    "    headers = {'Accept': 'application/json', 'x-signavio-id':  auth_data['auth_token']}\n",
    "    print(auth_data['jsesssion_ID'],auth_data['lb_route_ID'])\n",
    "    print(auth_data['auth_token'])\n",
    "    auth[workspace_name]={\"cookies\":cookies,\"headers\":headers}\n",
    "    return auth    \n",
    "\n",
    "# POST - need to re-run to inject the above generated credentials\n",
    "#q=q_list_processes #\n",
    "\n",
    "#def POST_Signavio(query={},cookies=cookies,headers=headers):\n",
    "def POST_Signavio(query={},workspace_name=\"\",auth=auth):\n",
    "        signal_endpoint = system_instance + '/g/api/pi-graphql/graphql'\n",
    "        timeout=50\n",
    "        try:\n",
    "            query_request = requests.post(\n",
    "                signal_endpoint,\n",
    "                cookies=auth[workspace_name][\"cookies\"],\n",
    "                headers=auth[workspace_name][\"headers\"],\n",
    "                timeout=timeout,\n",
    "                json=query)\n",
    "            query_request.raise_for_status()\n",
    "        except requests.HTTPError as ex:\n",
    "            # possibly check response for a message\n",
    "            raise ex  # let the caller handle it\n",
    "        except requests.Timeout:\n",
    "            print(\"request took too long\")\n",
    "\n",
    "\n",
    "        return query_request.json()"
   ]
  },
  {
   "cell_type": "code",
   "execution_count": 31,
   "metadata": {},
   "outputs": [
    {
     "name": "stdout",
     "output_type": "stream",
     "text": [
      "Your are: alexey.streltsov@sap.com\n",
      "F32C16BEEBEDDDD815F0270506AD2D08 \"4e9835474540c554\"\n",
      "8719156911334fb78be943b322144a09\n"
     ]
    },
    {
     "data": {
      "text/plain": [
       "{'Process AI': {'cookies': {'JSESSIONID': 'F32C16BEEBEDDDD815F0270506AD2D08',\n",
       "   'LBROUTEID': '\"4e9835474540c554\"'},\n",
       "  'headers': {'Accept': 'application/json',\n",
       "   'x-signavio-id': '8719156911334fb78be943b322144a09'}}}"
      ]
     },
     "execution_count": 31,
     "metadata": {},
     "output_type": "execute_result"
    }
   ],
   "source": [
    "# select workspace here \n",
    "import json\n",
    "import pathlib\n",
    "import logging\n",
    "import requests\n",
    "import os\n",
    "logging.getLogger(\"urllib3\").setLevel(logging.WARNING)\n",
    "\n",
    "\n",
    "auth={}\n",
    " \n",
    "user_name = os.environ.get('MY_SIGNAVIO_NAME','alexey.streltsov@sap.com') # username\n",
    "pw = os.environ.get('MY_SIGNAVIO_PASSWORD', None) # Signavio password\n",
    "print(\"Your are:\",user_name)\n",
    "system_instance = 'https://editor.signavio.com'\n",
    "workspace_id = 'b0f07deabd3140aea5344baa686e0d84' # workspace Process AI \n",
    "workspace_name=\"Process AI\"\n",
    "credentials_actualization(system_instance, workspace_id, user_name, pw, auth=auth) \n",
    "#workspace_id = 'ccf98b692d1d4e0aa895df3aab8cd905' # workspace Solutions Demo Workspace access by alexandra.dang@sap.com\n",
    "#workspace_name=\"Solutions Demo Workspace\"\n",
    "#credentials_actualization(system_instance, workspace_id, user_name, pw, auth=auth)\n",
    "# This workspace is under discussion with sarah.roessler@sap.com\n",
    "#workspace_id = \"2da9ebfecca0479398ad9905b88c5187\"\n",
    "#workspace_name=\"SAP Signavio Suite Power Challenge\"\n",
    "#user_name=\"demo+113@signavio.com\"\n",
    "#pw=\"signavio\"\n",
    "#credentials_actualization(system_instance, workspace_id, user_name, pw, auth=auth)\n",
    "\n",
    "auth"
   ]
  },
  {
   "cell_type": "code",
   "execution_count": 33,
   "metadata": {},
   "outputs": [
    {
     "name": "stdout",
     "output_type": "stream",
     "text": [
      "In Workspace Name: Process AI. Number of processes: 6\n"
     ]
    }
   ],
   "source": [
    "q_list_processes={\n",
    "    \"operationName\": \"Subjects\",\n",
    "    \"variables\": {},\n",
    "    \"query\": \"query Subjects {\\n  subjects {\\n    id\\n    name\\n    businessArea\\n  investigationCount dashboardCount }}\"\n",
    "}\n",
    "\n",
    "workspace_name=\"Process AI\"\n",
    "list_processes_1 =  POST_Signavio(query=q_list_processes,workspace_name=workspace_name)['data']['subjects']\n",
    "print(f\"In Workspace Name: {workspace_name}. Number of processes: {len(list_processes_1)}\")"
   ]
  },
  {
   "cell_type": "code",
   "execution_count": 36,
   "metadata": {},
   "outputs": [
    {
     "data": {
      "text/plain": [
       "171"
      ]
     },
     "execution_count": 36,
     "metadata": {},
     "output_type": "execute_result"
    }
   ],
   "source": [
    "#query_to_api.find(\"null\")"
   ]
  },
  {
   "cell_type": "code",
   "execution_count": 37,
   "metadata": {},
   "outputs": [],
   "source": [
    "#def create_widget(name=\"rr\",):\n",
    "query_to_api= {\n",
    "    \"operationName\": \"CreateWidgetOnInvestigation\",\n",
    "    \"variables\": {\n",
    "        \"id\": \"qq-1\",\n",
    "        \"widget\": {\n",
    "            \"visualization\": {\n",
    "                \"unit\":  None,\n",
    "                \"type\": \"VALUE\"\n",
    "            },\n",
    "            \"dataSource\": {\n",
    "                \"query\": \"SELECT count(case_id) FROM THIS_PROCESS\",\n",
    "                \"type\": \"SIGNAL\"\n",
    "            },\n",
    "            \"name\": \"rr1\"\n",
    "        }\n",
    "    },\n",
    "    \"query\": \"mutation CreateWidgetOnInvestigation($id: ID!, $widget: JSON!) {\\n  createWidget(id: $id, widget: $widget) {\\n    ...Widget\\n    __typename\\n  }\\n}\\n\\nfragment Widget on Widget {\\n  id\\n  name\\n  description\\n  children\\n  filters {\\n    ...Filter\\n    __typename\\n  }\\n  visualization {\\n    ...Visualization\\n    __typename\\n  }\\n  dataSource {\\n    ...WidgetDataSource\\n    __typename\\n  }\\n  __typename\\n}\\n\\nfragment Filter on Filter {\\n  ... on ActivityOccurrencesFilter {\\n    ...ActivityOccurrencesFilter\\n    __typename\\n  }\\n  ... on CustomSignalFilter {\\n    ...CustomSignalFilter\\n    __typename\\n  }\\n  ... on BehaviorFilter {\\n    ...BehaviorFilter\\n    __typename\\n  }\\n  ... on CaseCycleTimeFilter {\\n    ...CaseCycleTimeFilter\\n    __typename\\n  }\\n  ... on CaseDateFilter {\\n    ...CaseDateFilter\\n    __typename\\n  }\\n  ... on EventDateFilter {\\n    ...EventDateFilter\\n    __typename\\n  }\\n  ... on CaseDateRollingFilter {\\n    ...CaseDateRollingFilter\\n    __typename\\n  }\\n  ... on CaseEventCountFilter {\\n    ...CaseEventCountFilter\\n    __typename\\n  }\\n  ... on CaseIdFilter {\\n    ...CaseIdFilter\\n    __typename\\n  }\\n  ... on ProcessDiscoveryFilter {\\n    ...ProcessDiscoveryFilter\\n    __typename\\n  }\\n  ... on ProcessModelFilter {\\n    ...ProcessModelFilter\\n    __typename\\n  }\\n  ... on ProcessVarChoiceFilter {\\n    ...ProcessVarChoiceFilter\\n    __typename\\n  }\\n  ... on ProcessVarCurrencyFilter {\\n    ...ProcessVarCurrencyFilter\\n    __typename\\n  }\\n  ... on ProcessVarDateTimeFilter {\\n    ...ProcessVarDateTimeFilter\\n    __typename\\n  }\\n  ... on ProcessVarDoublePrecisionFilter {\\n    ...ProcessVarDoublePrecisionFilter\\n    __typename\\n  }\\n  ... on ProcessVarDurationFilter {\\n    ...ProcessVarDurationFilter\\n    __typename\\n  }\\n  __typename\\n}\\n\\nfragment ActivityOccurrencesFilter on ActivityOccurrencesFilter {\\n  id\\n  type\\n  includes\\n  excludes\\n  enabled\\n  level\\n  __typename\\n}\\n\\nfragment CustomSignalFilter on CustomSignalFilter {\\n  id\\n  type\\n  name\\n  description\\n  signalFragment\\n  enabled\\n  level\\n  __typename\\n}\\n\\nfragment BehaviorFilter on BehaviorFilter {\\n  id\\n  type\\n  behaviorType\\n  startEndType\\n  startEndEvents\\n  sequenceType\\n  sequenceSource\\n  sequenceTarget\\n  reworkType\\n  reworkOperator\\n  reworkFrequency\\n  enabled\\n  __typename\\n}\\n\\nfragment CaseCycleTimeFilter on CaseCycleTimeFilter {\\n  id\\n  type\\n  maximum {\\n    value\\n    unit\\n    operator\\n    __typename\\n  }\\n  minimum {\\n    value\\n    unit\\n    operator\\n    __typename\\n  }\\n  enabled\\n  __typename\\n}\\n\\nfragment CaseDateFilter on CaseDateFilter {\\n  type\\n  startDate\\n  endDate\\n  id\\n  caseInclusionCriterion\\n  enabled\\n  __typename\\n}\\n\\nfragment EventDateFilter on EventDateFilter {\\n  id\\n  type\\n  startDate\\n  endDate\\n  enabled\\n  __typename\\n}\\n\\nfragment CaseDateRollingFilter on CaseDateRollingFilter {\\n  id\\n  type\\n  unit\\n  amount\\n  caseInclusionCriterion\\n  enabled\\n  __typename\\n}\\n\\nfragment CaseEventCountFilter on CaseEventCountFilter {\\n  id\\n  type\\n  minimum {\\n    value\\n    operator\\n    __typename\\n  }\\n  maximum {\\n    value\\n    operator\\n    __typename\\n  }\\n  enabled\\n  __typename\\n}\\n\\nfragment CaseIdFilter on CaseIdFilter {\\n  id\\n  type\\n  includes\\n  excludes\\n  enabled\\n  __typename\\n}\\n\\nfragment ProcessDiscoveryFilter on ProcessDiscoveryFilter {\\n  id\\n  type\\n  dataSource\\n  variantsAsEventNames\\n  aggregationDimension\\n  order\\n  enabled\\n  __typename\\n}\\n\\nfragment ProcessModelFilter on ProcessModelFilter {\\n  id\\n  type\\n  dataSource\\n  variantsAsEventNames\\n  aggregationDimension\\n  order\\n  enabled\\n  __typename\\n}\\n\\nfragment ProcessVarChoiceFilter on ProcessVarChoiceFilter {\\n  id\\n  type\\n  processVariable\\n  includes\\n  excludes\\n  enabled\\n  parameter {\\n    ... on ProcessVariableParameter {\\n      type\\n      name\\n      __typename\\n    }\\n    ... on CustomAttributeParameter {\\n      type\\n      customAttributeId\\n      __typename\\n    }\\n    __typename\\n  }\\n  level\\n  __typename\\n}\\n\\nfragment ProcessVarCurrencyFilter on ProcessVarCurrencyFilter {\\n  id\\n  type\\n  processVariable\\n  minimum {\\n    value\\n    operator\\n    __typename\\n  }\\n  maximum {\\n    value\\n    operator\\n    __typename\\n  }\\n  enabled\\n  parameter {\\n    ... on ProcessVariableParameter {\\n      type\\n      name\\n      __typename\\n    }\\n    ... on CustomAttributeParameter {\\n      type\\n      customAttributeId\\n      __typename\\n    }\\n    __typename\\n  }\\n  level\\n  __typename\\n}\\n\\nfragment ProcessVarDateTimeFilter on ProcessVarDateTimeFilter {\\n  startDate\\n  type\\n  endDate\\n  id\\n  processVariable\\n  enabled\\n  parameter {\\n    ... on ProcessVariableParameter {\\n      type\\n      name\\n      __typename\\n    }\\n    ... on CustomAttributeParameter {\\n      type\\n      customAttributeId\\n      __typename\\n    }\\n    __typename\\n  }\\n  level\\n  __typename\\n}\\n\\nfragment ProcessVarDoublePrecisionFilter on ProcessVarDoublePrecisionFilter {\\n  id\\n  type\\n  processVariable\\n  minimum {\\n    value\\n    operator\\n    __typename\\n  }\\n  maximum {\\n    value\\n    operator\\n    __typename\\n  }\\n  enabled\\n  parameter {\\n    ... on ProcessVariableParameter {\\n      type\\n      name\\n      __typename\\n    }\\n    ... on CustomAttributeParameter {\\n      type\\n      customAttributeId\\n      __typename\\n    }\\n    __typename\\n  }\\n  level\\n  __typename\\n}\\n\\nfragment ProcessVarDurationFilter on ProcessVarDurationFilter {\\n  id\\n  type\\n  processVariable\\n  minimum {\\n    value\\n    unit\\n    operator\\n    __typename\\n  }\\n  maximum {\\n    value\\n    unit\\n    operator\\n    __typename\\n  }\\n  enabled\\n  parameter {\\n    ... on ProcessVariableParameter {\\n      type\\n      name\\n      __typename\\n    }\\n    ... on CustomAttributeParameter {\\n      type\\n      customAttributeId\\n      __typename\\n    }\\n    __typename\\n  }\\n  level\\n  __typename\\n}\\n\\nfragment Visualization on Visualization {\\n  ... on ActivityList {\\n    type\\n    __typename\\n  }\\n  ... on Area {\\n    type\\n    thresholds {\\n      ...Threshold\\n      __typename\\n    }\\n    dataLabel {\\n      ...DataLabel\\n      __typename\\n    }\\n    colorPalette {\\n      ...ColorPalette\\n      __typename\\n    }\\n    __typename\\n  }\\n  ... on BarChart {\\n    type\\n    orientation\\n    grouping\\n    thresholds {\\n      ...Threshold\\n      __typename\\n    }\\n    dataLabel {\\n      ...DataLabel\\n      __typename\\n    }\\n    colorPalette {\\n      ...ColorPalette\\n      __typename\\n    }\\n    __typename\\n  }\\n  ... on CasesTable {\\n    type\\n    columnConfigurations {\\n      ...ColumnConfiguration\\n      __typename\\n    }\\n    __typename\\n  }\\n  ... on Chapter {\\n    type\\n    __typename\\n  }\\n  ... on FuzzyModel {\\n    type\\n    edgeGranularity\\n    nodeGranularity\\n    annotateBy\\n    width\\n    __typename\\n  }\\n  ... on DualAxisChart {\\n    type\\n    orientation\\n    dataLabel {\\n      ...DataLabel\\n      __typename\\n    }\\n    colorPalette {\\n      ...ColorPalette\\n      __typename\\n    }\\n    __typename\\n  }\\n  ... on HeatMap {\\n    type\\n    dataLabel {\\n      ...DataLabel\\n      __typename\\n    }\\n    colorPalette {\\n      ...ColorPalette\\n      __typename\\n    }\\n    __typename\\n  }\\n  ... on Histogram {\\n    type\\n    thresholds {\\n      ...Threshold\\n      __typename\\n    }\\n    unit {\\n      ...Unit\\n      __typename\\n    }\\n    isAverageShown\\n    percentilesShown\\n    dataLabel {\\n      ...DataLabel\\n      __typename\\n    }\\n    colorPalette {\\n      ...ColorPalette\\n      __typename\\n    }\\n    __typename\\n  }\\n  ... on PieChart {\\n    type\\n    dataLabel {\\n      ...DataLabel\\n      __typename\\n    }\\n    colorPalette {\\n      ...ColorPalette\\n      __typename\\n    }\\n    __typename\\n  }\\n  ... on ProcessDiagram {\\n    type\\n    modelId\\n    revisionId\\n    __typename\\n  }\\n  ... on ProcessDiscovery {\\n    type\\n    graphRenderingMode\\n    edgeDimension\\n    variantSelection {\\n      ...VariantSelection\\n      __typename\\n    }\\n    __typename\\n  }\\n  ... on ProcessConformance {\\n    type\\n    selectedView\\n    variantSelection {\\n      ...VariantSelection\\n      __typename\\n    }\\n    __typename\\n  }\\n  ... on OlapTable {\\n    type\\n    columnConfigurations {\\n      ...ColumnConfiguration\\n      __typename\\n    }\\n    __typename\\n  }\\n  ... on SankeyChart {\\n    type\\n    width\\n    dataLabel {\\n      ...DataLabel\\n      __typename\\n    }\\n    colorPalette {\\n      ...ColorPalette\\n      __typename\\n    }\\n    __typename\\n  }\\n  ... on Spreadsheet {\\n    type\\n    __typename\\n  }\\n  ... on Table {\\n    type\\n    grouped\\n    columnConfigurations {\\n      ...ColumnConfiguration\\n      __typename\\n    }\\n    __typename\\n  }\\n  ... on Text {\\n    type\\n    __typename\\n  }\\n  ... on Throughput {\\n    type\\n    __typename\\n  }\\n  ... on TimeSeries {\\n    type\\n    thresholds {\\n      ...Threshold\\n      __typename\\n    }\\n    unit {\\n      ...Unit\\n      __typename\\n    }\\n    dataLabel {\\n      ...DataLabel\\n      __typename\\n    }\\n    colorPalette {\\n      ...ColorPalette\\n      __typename\\n    }\\n    __typename\\n  }\\n  ... on TreeMap {\\n    type\\n    dataLabel {\\n      ...DataLabel\\n      __typename\\n    }\\n    colorPalette {\\n      ...ColorPalette\\n      __typename\\n    }\\n    __typename\\n  }\\n  ... on Value {\\n    type\\n    thresholds {\\n      ...Threshold\\n      __typename\\n    }\\n    unit {\\n      ...Unit\\n      __typename\\n    }\\n    rounding {\\n      ...Rounding\\n      __typename\\n    }\\n    __typename\\n  }\\n  ... on ScatterPlot {\\n    type\\n    hasRegressionLine\\n    dataLabel {\\n      ...DataLabel\\n      __typename\\n    }\\n    colorPalette {\\n      ...ColorPalette\\n      __typename\\n    }\\n    __typename\\n  }\\n  __typename\\n}\\n\\nfragment Threshold on Threshold {\\n  type\\n  visible\\n  baseColor\\n  goal\\n  values {\\n    label\\n    colorAbove\\n    value\\n    __typename\\n  }\\n  __typename\\n}\\n\\nfragment Unit on WidgetUnit {\\n  ... on SuffixUnit {\\n    type\\n    suffix\\n    __typename\\n  }\\n  ... on CurrencyUnit {\\n    type\\n    currencyCode\\n    __typename\\n  }\\n  ... on DurationUnit {\\n    type\\n    __typename\\n  }\\n  __typename\\n}\\n\\nfragment Rounding on NumberRoundingSettings {\\n  mode\\n  numberOfDecimals\\n  __typename\\n}\\n\\nfragment ColumnConfiguration on ColumnConfiguration {\\n  columnName\\n  columnAlias\\n  columnPosition\\n  settings {\\n    thresholds {\\n      ...Threshold\\n      __typename\\n    }\\n    dateTimeFormat {\\n      ... on SignalWidgetDateFormattingDateAndTime {\\n        year\\n        month\\n        day\\n        hour\\n        minute\\n        __typename\\n      }\\n      ... on SignalWidgetDateFormattingDate {\\n        year\\n        month\\n        day\\n        __typename\\n      }\\n      ... on SignalWidgetDateFormattingTime {\\n        hour\\n        minute\\n        __typename\\n      }\\n      __typename\\n    }\\n    __typename\\n  }\\n  __typename\\n}\\n\\nfragment VariantSelection on VariantSelection {\\n  dataSource\\n  aggregationDimension\\n  order\\n  selectedVariants\\n  sortBy\\n  aggregationDimensionParameter {\\n    ... on ProcessVariableParameter {\\n      type\\n      name\\n      __typename\\n    }\\n    ... on CustomAttributeParameter {\\n      type\\n      customAttributeId\\n      __typename\\n    }\\n    ... on MetricParameter {\\n      type\\n      metricId\\n      __typename\\n    }\\n    ... on SemanticTypeParameter {\\n      type\\n      semanticType\\n      __typename\\n    }\\n    __typename\\n  }\\n  limit\\n  offset\\n  __typename\\n}\\n\\nfragment DataLabel on DataLabel {\\n  show\\n  rotate\\n  fontSize\\n  fontWeight\\n  fontStyle\\n  position\\n  __typename\\n}\\n\\nfragment ColorPalette on ColorPalette {\\n  id\\n  reversed\\n  __typename\\n}\\n\\nfragment WidgetDataSource on WidgetDataSource {\\n  ... on StructuredWidgetDataSource {\\n    type\\n    projections {\\n      ... on ParameterizedProjection {\\n        type\\n        attribute\\n        aggregation\\n        parameter {\\n          ... on ProcessVariableParameter {\\n            type\\n            name\\n            __typename\\n          }\\n          ... on CustomAttributeParameter {\\n            type\\n            customAttributeId\\n            __typename\\n          }\\n          ... on SemanticTypeParameter {\\n            type\\n            semanticType\\n            __typename\\n          }\\n          __typename\\n        }\\n        order\\n        __typename\\n      }\\n      ... on MetricProjection {\\n        type\\n        metric\\n        order\\n        __typename\\n      }\\n      __typename\\n    }\\n    groupBy {\\n      ... on AttributeGroupBy {\\n        type\\n        attribute\\n        parameter {\\n          ... on ProcessVariableParameter {\\n            type\\n            name\\n            __typename\\n          }\\n          ... on CustomAttributeParameter {\\n            type\\n            customAttributeId\\n            __typename\\n          }\\n          ... on SemanticTypeParameter {\\n            type\\n            semanticType\\n            __typename\\n          }\\n          __typename\\n        }\\n        order\\n        __typename\\n      }\\n      __typename\\n    }\\n    timeBucket\\n    limit {\\n      ... on Limit {\\n        value\\n        enabled\\n        showWarning\\n        __typename\\n      }\\n      __typename\\n    }\\n    __typename\\n  }\\n  ... on SignalWidgetDataSource {\\n    type\\n    query\\n    __typename\\n  }\\n  ... on StaticWidgetDataSource {\\n    type\\n    data\\n    __typename\\n  }\\n  __typename\\n}\\n\"\n",
    "}\n"
   ]
  },
  {
   "cell_type": "code",
   "execution_count": null,
   "metadata": {},
   "outputs": [],
   "source": []
  }
 ],
 "metadata": {
  "kernelspec": {
   "display_name": ".venv",
   "language": "python",
   "name": "python3"
  },
  "language_info": {
   "codemirror_mode": {
    "name": "ipython",
    "version": 3
   },
   "file_extension": ".py",
   "mimetype": "text/x-python",
   "name": "python",
   "nbconvert_exporter": "python",
   "pygments_lexer": "ipython3",
   "version": "3.11.6"
  }
 },
 "nbformat": 4,
 "nbformat_minor": 2
}
